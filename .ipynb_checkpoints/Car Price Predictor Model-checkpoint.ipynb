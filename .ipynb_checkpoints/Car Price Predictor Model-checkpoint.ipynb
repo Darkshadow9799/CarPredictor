{
 "cells": [
  {
   "cell_type": "code",
   "execution_count": 2,
   "metadata": {},
   "outputs": [
    {
     "name": "stdout",
     "output_type": "stream",
     "text": [
      "The R2 value on train dataset: 0.8460945244470449 \n",
      "\n",
      "The R2 value on test dataset: 0.8781774746617562 \n",
      "\n",
      "The Mean Squared Error on train dataset: 11069179295.007586 \n",
      "\n",
      "The Mean Squared Error on test dataset: 8679258466.393154 \n",
      "\n",
      "0.8781774746617562\n"
     ]
    }
   ],
   "source": [
    "import pandas as pd\n",
    "import numpy as np\n",
    "import pickle\n",
    "data_raw = pd.read_csv(\"data_clean.csv\")\n",
    "q = data_raw[\"Price\"].quantile(0.99)\n",
    "data_raw = data_raw[data_raw[\"Price\"] < q]\n",
    "y = data_raw['Price']\n",
    "X = data_raw[data_raw.columns.difference(['Price'])]\n",
    "from sklearn.model_selection import train_test_split\n",
    "X_train, X_test, y_train, y_test = train_test_split(X, y, test_size=0.25, random_state=10000)\n",
    "cols_to_transform = ['Model','Fuel']\n",
    "X_train = pd.get_dummies(columns=cols_to_transform, data=X_train, prefix_sep=\"_\")\n",
    "X_test = pd.get_dummies(columns=cols_to_transform, data=X_test, prefix_sep=\"_\")\n",
    "X_train, X_test = X_train.align(X_test,join='outer',axis=1)\n",
    "from sklearn.linear_model import LinearRegression\n",
    "linreg = LinearRegression() \n",
    "linreg.fit(X_train, y_train)\n",
    "train_pred = linreg.predict(X_train)\n",
    "test_pred = linreg.predict(X_test)\n",
    "from sklearn.metrics import mean_squared_error, r2_score\n",
    "print(\"The R2 value on train dataset: {} \\n\".format(r2_score(y_pred=train_pred, y_true=y_train)))\n",
    "print(\"The R2 value on test dataset: {} \\n\".format(r2_score(y_pred=test_pred, y_true=y_test)))\n",
    "print(\"The Mean Squared Error on train dataset: {} \\n\".format(mean_squared_error(y_pred=train_pred,y_true=y_train)))\n",
    "print(\"The Mean Squared Error on test dataset: {} \\n\".format(mean_squared_error(y_pred=test_pred,y_true=y_test)))\n",
    "print(linreg.score(X_test,y_test))"
   ]
  },
  {
   "cell_type": "code",
   "execution_count": 3,
   "metadata": {},
   "outputs": [],
   "source": [
    "filename='model_lin_reg.sav'\n",
    "pickle.dump(linreg,open(filename,'wb'))"
   ]
  },
  {
   "cell_type": "code",
   "execution_count": 4,
   "metadata": {},
   "outputs": [],
   "source": [
    "dummy_csv=X_train.columns\n",
    "import csv"
   ]
  },
  {
   "cell_type": "code",
   "execution_count": 5,
   "metadata": {},
   "outputs": [],
   "source": [
    "with open('dummy_cvs.csv','w')as file:\n",
    "    writer=csv.writer(file)\n",
    "    writer.writerow(dummy_csv)"
   ]
  },
  {
   "cell_type": "code",
   "execution_count": 6,
   "metadata": {},
   "outputs": [],
   "source": [
    "data = pd.read_csv(\"data_clean.csv\")"
   ]
  },
  {
   "cell_type": "code",
   "execution_count": 7,
   "metadata": {},
   "outputs": [],
   "source": [
    "models=list(data['Model'])\n",
    "pricing=list(data['Price'])"
   ]
  },
  {
   "cell_type": "code",
   "execution_count": 8,
   "metadata": {},
   "outputs": [
    {
     "data": {
      "image/png": "[encoded data removed]",
      "text/plain": [
       "<Figure size 432x288 with 1 Axes>"
      ]
     },
     "metadata": {
      "needs_background": "light"
     },
     "output_type": "display_data"
    }
   ],
   "source": [
    "import matplotlib.pyplot as plt\n",
    "fig = plt.figure()\n",
    "ax = fig.add_axes([0,0,1,1])\n",
    "ax.bar(models,pricing)\n",
    "plt.show()"
   ]
  },
  {
   "cell_type": "code",
   "execution_count": null,
   "metadata": {},
   "outputs": [],
   "source": []
  }
 ],
 "metadata": {
  "kernelspec": {
   "display_name": "Python 3",
   "language": "python",
   "name": "python3"
  },
  "language_info": {
   "codemirror_mode": {
    "name": "ipython",
    "version": 3
   },
   "file_extension": ".py",
   "mimetype": "text/x-python",
   "name": "python",
   "nbconvert_exporter": "python",
   "pygments_lexer": "ipython3",
   "version": "3.7.6"
  }
 },
 "nbformat": 4,
 "nbformat_minor": 4
}
