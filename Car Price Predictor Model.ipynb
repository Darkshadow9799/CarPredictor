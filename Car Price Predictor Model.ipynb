{
 "cells": [
  {
   "cell_type": "code",
   "execution_count": 1,
   "metadata": {},
   "outputs": [
    {
     "name": "stdout",
     "output_type": "stream",
     "text": [
      "The R2 value on train dataset: 0.8460945244555722 \n",
      "\n",
      "The R2 value on test dataset: 0.8781774746596454 \n",
      "\n",
      "The Mean Squared Error on train dataset: 11069179294.394285 \n",
      "\n",
      "The Mean Squared Error on test dataset: 8679258466.543543 \n",
      "\n",
      "0.8781774746596454\n"
     ]
    }
   ],
   "source": [
    "import pandas as pd\n",
    "import numpy as np\n",
    "import pickle\n",
    "olx_raw = pd.read_csv(\"olx_clean.csv\")\n",
    "q = olx_raw[\"Price\"].quantile(0.99)\n",
    "olx_raw = olx_raw[olx_raw[\"Price\"] < q]\n",
    "y = olx_raw['Price']\n",
    "X = olx_raw[olx_raw.columns.difference(['Price'])]\n",
    "\n",
    "from sklearn.model_selection import train_test_split\n",
    "X_train, X_test, y_train, y_test = train_test_split(X, y, test_size=0.25, random_state=10000)\n",
    "cols_to_transform = ['Model','Fuel']\n",
    "X_train = pd.get_dummies(columns=cols_to_transform, data=X_train, prefix_sep=\"_\")\n",
    "X_test = pd.get_dummies(columns=cols_to_transform, data=X_test, prefix_sep=\"_\")\n",
    "X_train, X_test = X_train.align(X_test,join='outer',axis=1)\n",
    "from sklearn.linear_model import LinearRegression\n",
    "\n",
    "linreg = LinearRegression() \n",
    "\n",
    "# Generating model with default parameters using the fit method. \n",
    "linreg.fit(X_train, y_train)\n",
    "train_pred = linreg.predict(X_train)\n",
    "test_pred = linreg.predict(X_test)\n",
    "from sklearn.metrics import mean_squared_error, r2_score\n",
    "\n",
    "print(\"The R2 value on train dataset: {} \\n\".format(r2_score(y_pred=train_pred, y_true=y_train)))\n",
    "\n",
    "print(\"The R2 value on test dataset: {} \\n\".format(r2_score(y_pred=test_pred, y_true=y_test)))\n",
    "\n",
    "\n",
    "print(\"The Mean Squared Error on train dataset: {} \\n\".format(mean_squared_error(y_pred=train_pred,y_true=y_train)))\n",
    "\n",
    "print(\"The Mean Squared Error on test dataset: {} \\n\".format(mean_squared_error(y_pred=test_pred,y_true=y_test)))\n",
    "\n",
    "print(linreg.score(X_test,y_test))"
   ]
  },
  {
   "cell_type": "code",
   "execution_count": 2,
   "metadata": {},
   "outputs": [],
   "source": [
    "filename='model_lin_reg.sav'\n",
    "pickle.dump(linreg,open(filename,'wb'))"
   ]
  },
  {
   "cell_type": "code",
   "execution_count": 3,
   "metadata": {},
   "outputs": [],
   "source": [
    "dummy_csv=X_train.columns\n",
    "import csv"
   ]
  },
  {
   "cell_type": "code",
   "execution_count": 4,
   "metadata": {},
   "outputs": [],
   "source": [
    "with open('dummy_cvs.csv','w')as file:\n",
    "    writer=csv.writer(file)\n",
    "    writer.writerow(dummy_csv)"
   ]
  },
  {
   "cell_type": "code",
   "execution_count": 5,
   "metadata": {},
   "outputs": [
    {
     "name": "stdout",
     "output_type": "stream",
     "text": [
      "[Index(['Fuel_cng', 'Fuel_diesel', 'Fuel_lpg', 'Fuel_petrol'], dtype='object')]\n"
     ]
    }
   ],
   "source": [
    "print([dummy_csv[-4:]])"
   ]
  }
 ],
 "metadata": {
  "kernelspec": {
   "display_name": "Python 3",
   "language": "python",
   "name": "python3"
  },
  "language_info": {
   "codemirror_mode": {
    "name": "ipython",
    "version": 3
   },
   "file_extension": ".py",
   "mimetype": "text/x-python",
   "name": "python",
   "nbconvert_exporter": "python",
   "pygments_lexer": "ipython3",
   "version": "3.7.6"
  }
 },
 "nbformat": 4,
 "nbformat_minor": 4
}
